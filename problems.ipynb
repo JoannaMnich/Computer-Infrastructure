{
 "cells": [
  {
   "cell_type": "markdown",
   "id": "1aab5dc9",
   "metadata": {},
   "source": [
    "# Assessment Problems"
   ]
  },
  {
   "cell_type": "markdown",
   "id": "6e3c94d3",
   "metadata": {},
   "source": [
    "## Problem 1: Data from yfinance\n"
   ]
  },
  {
   "cell_type": "markdown",
   "id": "6bea5d36",
   "metadata": {},
   "source": [
    "https://github.com/ranaroussi/yfinance\n"
   ]
  },
  {
   "cell_type": "code",
   "execution_count": 26,
   "id": "e1c7351b",
   "metadata": {},
   "outputs": [],
   "source": [
    "# Dates and times.\n",
    "import datetime as dt\n",
    "\n",
    "# Data frames.\n",
    "import pandas as pd\n",
    "\n",
    "# Yahoo finance data.\n",
    "import yfinance as yf\n"
   ]
  },
  {
   "cell_type": "markdown",
   "id": "c82073d0",
   "metadata": {},
   "source": [
    "https://pandas.pydata.org/docs/reference/api/pandas.DataFrame.html"
   ]
  },
  {
   "cell_type": "code",
   "execution_count": 27,
   "id": "1315ba2a",
   "metadata": {},
   "outputs": [
    {
     "name": "stderr",
     "output_type": "stream",
     "text": [
      "C:\\Users\\jmnic\\AppData\\Local\\Temp\\ipykernel_19888\\398489507.py:3: FutureWarning: YF.download() has changed argument auto_adjust default to True\n",
      "  data = yf.download(tickers, period=period, interval=interval, group_by='ticker')\n",
      "[*********************100%***********************]  5 of 5 completed\n"
     ]
    }
   ],
   "source": [
    "#Get data\n",
    "def get_data(tickers, period=\"5d\", interval=\"1h\"):\n",
    "    data = yf.download(tickers, period=period, interval=interval, group_by='ticker')\n",
    "    return data\n",
    "\n",
    "#Tickers\n",
    "tickers = [\"META\", \"AAPL\", \"AMZN\", \"NFLX\", \"GOOGL\"]\n",
    "\n",
    "df=get_data(tickers,period=\"5d\", interval=\"1d\")"
   ]
  },
  {
   "cell_type": "markdown",
   "id": "3d783cb6",
   "metadata": {},
   "source": [
    "https://docs.python.org/3/library/datetime.html\n",
    "https://pandas.pydata.org/docs/reference/api/pandas.DataFrame.to_csv.html \n"
   ]
  },
  {
   "cell_type": "code",
   "execution_count": 28,
   "id": "c4a7084a",
   "metadata": {},
   "outputs": [
    {
     "name": "stdout",
     "output_type": "stream",
     "text": [
      "Saved: data/20251019-193513.csv\n"
     ]
    }
   ],
   "source": [
    "#Save data in folder named data\n",
    "filename = \"data/\" + dt.datetime.now().strftime(\"%Y%m%d-%H%M%S\") + \".csv\"\n",
    "df.to_csv(filename)\n",
    "print(\"Saved:\", filename)\n"
   ]
  },
  {
   "cell_type": "code",
   "execution_count": null,
   "id": "703cd683",
   "metadata": {},
   "outputs": [],
   "source": []
  },
  {
   "cell_type": "markdown",
   "id": "4b3f4afc",
   "metadata": {},
   "source": [
    "## Problem 2: Plotting Data"
   ]
  },
  {
   "cell_type": "markdown",
   "id": "dfd5446f",
   "metadata": {},
   "source": [
    "## Problem 3: Script"
   ]
  },
  {
   "cell_type": "markdown",
   "id": "739c37e9",
   "metadata": {},
   "source": [
    "## Problem 4: Automation"
   ]
  },
  {
   "cell_type": "markdown",
   "id": "56d03b8d",
   "metadata": {},
   "source": [
    "## END"
   ]
  }
 ],
 "metadata": {
  "kernelspec": {
   "display_name": "base",
   "language": "python",
   "name": "python3"
  },
  "language_info": {
   "codemirror_mode": {
    "name": "ipython",
    "version": 3
   },
   "file_extension": ".py",
   "mimetype": "text/x-python",
   "name": "python",
   "nbconvert_exporter": "python",
   "pygments_lexer": "ipython3",
   "version": "3.12.7"
  }
 },
 "nbformat": 4,
 "nbformat_minor": 5
}
