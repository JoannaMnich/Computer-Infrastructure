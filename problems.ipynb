{
 "cells": [
  {
   "cell_type": "markdown",
   "id": "1aab5dc9",
   "metadata": {},
   "source": [
    "# Assessment Problems"
   ]
  },
  {
   "cell_type": "markdown",
   "id": "6e3c94d3",
   "metadata": {},
   "source": [
    "## Problem 1: Data from yfinance\n"
   ]
  },
  {
   "cell_type": "markdown",
   "id": "6bea5d36",
   "metadata": {},
   "source": [
    "https://github.com/ranaroussi/yfinance\n"
   ]
  },
  {
   "cell_type": "code",
   "execution_count": 7,
   "id": "e1c7351b",
   "metadata": {},
   "outputs": [],
   "source": [
    "# Dates and times.\n",
    "import datetime as dt\n",
    "\n",
    "# Data frames.\n",
    "import pandas as pd\n",
    "\n",
    "# Yahoo finance data.\n",
    "import yfinance as yf\n"
   ]
  },
  {
   "cell_type": "code",
   "execution_count": null,
   "id": "19e7dfa0",
   "metadata": {},
   "outputs": [],
   "source": [
    "# Tickers:\n",
    " # a list of stock symbols used to find data from yfinance\n",
    "\n",
    "# Get data : \n",
    "# The get_data function enables retrieval of pricing snapshots, as well as fundamental and reference data, in a single call.\n",
    "# See: https://cdn.refinitiv.com/public/rd-lib-python-doc/1.0.0.0/book/en/sections/access-layer/access/get-data-function.html\n",
    "# period an interval used to obtain historical data\n",
    "\n",
    "# Download data:\n",
    "# This function uses the yfinance Python library to download historical stock data.\n",
    "# See: https://medium.com/%40anjalivemuri97/day-4-fetching-historical-stock-data-with-yfinance-f45f3bd8b9c6\n",
    "# I use auto_adjust=True, to omit the future warning\n",
    "\n",
    "# DataFrame:\n",
    "# It’s widely used for data analysis, cleaning, and visualization.Supports filtering, sorting, aggregation, and analysis\n",
    "# See: https://pandas.pydata.org/docs/reference/api/pandas.DataFrame.html"
   ]
  },
  {
   "cell_type": "code",
   "execution_count": null,
   "id": "1315ba2a",
   "metadata": {},
   "outputs": [
    {
     "name": "stderr",
     "output_type": "stream",
     "text": [
      "[*********************100%***********************]  5 of 5 completed\n"
     ]
    }
   ],
   "source": [
    "tickers = [\"META\", \"AAPL\", \"AMZN\", \"NFLX\", \"GOOGL\"]\n",
    "\n",
    "def get_data(tickers, period=\"5d\", interval=\"1h\"): \n",
    "    data = yf.download(tickers, period=period, interval=interval, group_by='ticker', auto_adjust=True) \n",
    "    return data\n",
    "df=get_data(tickers,period=\"5d\", interval=\"1d\")"
   ]
  },
  {
   "cell_type": "code",
   "execution_count": null,
   "id": "97bb5be5",
   "metadata": {},
   "outputs": [],
   "source": [
    "# Saving data into csv file:\n",
    "# See: https://pandas.pydata.org/docs/reference/api/pandas.DataFrame.to_csv.html \n",
    "\n",
    "# Datetime:\n",
    "# Used to record the exact date and time\n",
    "# See: https://docs.python.org/3/library/datetime.html"
   ]
  },
  {
   "cell_type": "code",
   "execution_count": null,
   "id": "c4a7084a",
   "metadata": {},
   "outputs": [
    {
     "name": "stdout",
     "output_type": "stream",
     "text": [
      "Saved: data/20251021-085456.csv\n"
     ]
    }
   ],
   "source": [
    "filename = \"data/\" + dt.datetime.now().strftime(\"%Y%m%d-%H%M%S\") + \".csv\"\n",
    "df.to_csv(filename)\n",
    "print(\"Saved:\", filename)\n"
   ]
  },
  {
   "cell_type": "markdown",
   "id": "4b3f4afc",
   "metadata": {},
   "source": [
    "## Problem 2: Plotting Data"
   ]
  },
  {
   "cell_type": "markdown",
   "id": "dfd5446f",
   "metadata": {},
   "source": [
    "## Problem 3: Script"
   ]
  },
  {
   "cell_type": "markdown",
   "id": "739c37e9",
   "metadata": {},
   "source": [
    "## Problem 4: Automation"
   ]
  },
  {
   "cell_type": "markdown",
   "id": "56d03b8d",
   "metadata": {},
   "source": [
    "## END"
   ]
  }
 ],
 "metadata": {
  "kernelspec": {
   "display_name": "base",
   "language": "python",
   "name": "python3"
  },
  "language_info": {
   "codemirror_mode": {
    "name": "ipython",
    "version": 3
   },
   "file_extension": ".py",
   "mimetype": "text/x-python",
   "name": "python",
   "nbconvert_exporter": "python",
   "pygments_lexer": "ipython3",
   "version": "3.12.7"
  }
 },
 "nbformat": 4,
 "nbformat_minor": 5
}
